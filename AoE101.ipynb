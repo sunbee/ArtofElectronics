{
 "cells": [
  {
   "cell_type": "code",
   "execution_count": 121,
   "metadata": {},
   "outputs": [],
   "source": [
    "import PySpice.Logging.Logging as Logging\n",
    "logger = Logging.setup_logging()\n",
    "\n",
    "from PySpice.Spice.Netlist import Circuit, SubCircuit\n",
    "from PySpice.Unit import *\n",
    "\n",
    "import numpy as np\n",
    "import matplotlib.pyplot as plt\n"
   ]
  },
  {
   "cell_type": "markdown",
   "metadata": {},
   "source": [
    "## PySpice 101\n",
    "\n",
    "PySpice is a circuit simulator with a text interface. We are accustomed to viewing an electrical ciruit as a circuit diagram. However, representing a circuit to a computer for analysis requires a different approach. PySpice has a text interface for the purpose.\n",
    "\n",
    "Think of the circuit diagram as a network graph. Such a graph, in Computer Science, has nodes and edges. In a circuit, junctions are nodes and components (capacitor, transistor, op amp, etc.) are edges. This is an elegant representation becuase circuit analysis examines voltage or current at a junction (with respect to ground). This manner of representation of a circuit is called *netlist* in PySpice. \n",
    "\n",
    "Here is an example [multisource DC circuit](https://www.allaboutcircuits.com/uploads/articles/multiple-source-DC-resistor-network-circuit-example-1.jpg): \n",
    "\n",
    "<img src=\"https://www.allaboutcircuits.com/uploads/articles/multiple-source-DC-resistor-network-circuit-example-1.jpg\">\n",
    "\n",
    "``` \n",
    "Multiple dc sources v1 1 0 dc 24 v2 3 0 dc 15 r1 1 2 10k r2 2 3 8.1k r3 2 0 4.7k .end \n",
    "```\n",
    "\n",
    "This compact representation has the followiing components:\n",
    "- The label \"Multiple dc sources\" \n",
    "- DC voltage source #1 with name 'v1', across nodes 0 (GND) and 1, type dc and size 24 volts\n",
    "- DC voltage source #2 with name 'v2', across nodes 0 (GND) and 3, type dc and size 15 volts\n",
    "- Resistor named 'r1' across nodes 1 and 2 and size 10k ohms\n",
    "- Resistor named 'r2' across nodes 2 and 3 and size 8.1k ohms\n",
    "- Resistor named 'r3' across nodes 0 (GND) and 2 and size 4.7k ohms.\n",
    "It has only the essential information about the circuit and no fluff.\n",
    "\n",
    "The netlist also includes provision to specify the type of simulation and content to report in output. We may want to examine the voltage or current in any of the following ways:\n",
    "1. steady-state\n",
    "2. transient\n",
    "3. time-varying\n",
    "\n",
    "PySpice offers these possibilities as relevant for AC or DC circuit analysis. See [examples](https://www.allaboutcircuits.com/textbook/reference/chpt-7/example-circuits-and-netlists/).\n",
    "\n",
    "Let's try our hand at some code."
   ]
  },
  {
   "cell_type": "markdown",
   "metadata": {},
   "source": [
    "## Voltage Divider\n",
    "\n",
    "Let's create a voltage divider. Line no. 1, create an object of class `Circuit`. Lines 3 through 5, create the netlist one edge at a time, specifing the two nodes that each edge connects. Nodes are identified with labels, 'input' and 'tap', with ground obtained as a property of the object ```circuit```. Remember that the netlist is a graph with a circuit element represented as an edge and a junction as a node. Line no. 7, print out the netlist. "
   ]
  },
  {
   "cell_type": "code",
   "execution_count": 3,
   "metadata": {},
   "outputs": [
    {
     "name": "stdout",
     "output_type": "stream",
     "text": [
      ".title Voltage Divider\n",
      "Vsource input 0 10V\n",
      "RR1 input tap 9kOhm\n",
      "RR2 tap 0 1kOhm\n",
      "\n"
     ]
    }
   ],
   "source": [
    "VoltageDivider = Circuit('Voltage Divider')\n",
    "\n",
    "VoltageDivider.V('source', 'input', VoltageDivider.gnd, 10@u_V)\n",
    "VoltageDivider.R('R1', 'input', 'tap', 9@u_kOhm)\n",
    "VoltageDivider.R('R2', 'tap', VoltageDivider.gnd, 1@u_kOhm)\n",
    "\n",
    "print(VoltageDivider)"
   ]
  },
  {
   "cell_type": "markdown",
   "metadata": {},
   "source": [
    "Now that we have the netlist, let's analyze the circuit and see the results. Line no. 1, set up the simulator. Line no. 3, run the simulation. Observe a more complete netlist in the 1st print statement. Observe the simulation results as address of an object in the 2nd print statement."
   ]
  },
  {
   "cell_type": "code",
   "execution_count": 4,
   "metadata": {},
   "outputs": [
    {
     "name": "stdout",
     "output_type": "stream",
     "text": [
      "2021-12-02 22:02:23,728 - PySpice.Spice.NgSpice.Shared.NgSpiceShared - Shared.WARNING - Unsupported Ngspice version 35\n",
      ".title Voltage Divider\n",
      "Vsource input 0 10V\n",
      "RR1 input tap 9kOhm\n",
      "RR2 tap 0 1kOhm\n",
      ".options TEMP = 25C\n",
      ".options TNOM = 25C\n",
      ".end\n",
      "\n",
      "<PySpice.Probe.WaveForm.OperatingPoint object at 0x7f904ffe0dc0>\n"
     ]
    }
   ],
   "source": [
    "simulator = VoltageDivider.simulator(temperature=25, nominal_temperature=25)\n",
    "print(simulator) # More complete netlist\n",
    "VoltageDividerResults = simulator.operating_point()\n",
    "print(VoltageDividerResults)"
   ]
  },
  {
   "cell_type": "markdown",
   "metadata": {},
   "source": [
    "Print out the simulation results, iterating over the dictionary that has information about each node as waveform stashed using label as key."
   ]
  },
  {
   "cell_type": "code",
   "execution_count": 5,
   "metadata": {},
   "outputs": [
    {
     "name": "stdout",
     "output_type": "stream",
     "text": [
      "Got tap: [1.].\n",
      "Got input: [10.].\n"
     ]
    }
   ],
   "source": [
    "for node, wave in VoltageDividerResults.nodes.items():\n",
    "    print(\"Got {}: {}.\".format(node, np.array(wave)))"
   ]
  },
  {
   "cell_type": "markdown",
   "metadata": {},
   "source": [
    "## MULTISOURCE DC CIRCUIT PART I\n",
    "\n",
    "Here is an example [multisource DC circuit](https://www.allaboutcircuits.com/uploads/articles/multiple-source-DC-resistor-network-circuit-example-1.jpg): \n",
    "\n",
    "<img src=\"https://www.allaboutcircuits.com/uploads/articles/multiple-source-DC-resistor-network-circuit-example-1.jpg\">\n"
   ]
  },
  {
   "cell_type": "code",
   "execution_count": 6,
   "metadata": {},
   "outputs": [
    {
     "name": "stdout",
     "output_type": "stream",
     "text": [
      ".title MULTISOURCE DC CIRCUIT PART I\n",
      "VV1 1 0 24V\n",
      "VV2 3 0 15V\n",
      "RR1 2 1 10kOhm\n",
      "RR2 3 2 8.1kOhm\n",
      "RR3 2 0 4.7kOhm\n",
      "\n"
     ]
    }
   ],
   "source": [
    "MultisourceDC = Circuit(\"MULTISOURCE DC CIRCUIT PART I\")\n",
    "MultisourceDC.V('V1', 1, 0, 24@u_V)\n",
    "MultisourceDC.V('V2', 3, 0, 15@u_V)\n",
    "MultisourceDC.R('R1', 2, 1, 10@u_kOhm)\n",
    "MultisourceDC.R('R2', 3, 2, 8.1@u_kOhm)\n",
    "MultisourceDC.R('R3', 2, 0, 4.7@u_kOhm)\n",
    "print(MultisourceDC)"
   ]
  },
  {
   "cell_type": "code",
   "execution_count": 33,
   "metadata": {},
   "outputs": [
    {
     "name": "stdout",
     "output_type": "stream",
     "text": [
      ".title MULTISOURCE DC CIRCUIT PART I\n",
      "VV1 1 0 24V\n",
      "VV2 3 0 15V\n",
      "RR1 2 1 10kOhm\n",
      "RR2 3 2 8.1kOhm\n",
      "RR3 2 0 4.7kOhm\n",
      ".options TEMP = 25C\n",
      ".options TNOM = 27C\n",
      ".end\n",
      "\n",
      "Got: 2: [9.74697417]\n",
      "Got: 3: [15.]\n",
      "Got: 1: [24.]\n"
     ]
    }
   ],
   "source": [
    "DCsim = MultisourceDC.simulator(temperature=25, temperature_nominal=25)\n",
    "print(DCsim)\n",
    "results = DCsim.operating_point()\n",
    "for node, wave in results.nodes.items():\n",
    "    print(\"Got: {}: {}\".format(node, np.array(wave)))"
   ]
  },
  {
   "cell_type": "markdown",
   "metadata": {},
   "source": [
    "The docs cite the following example for basic usage. The steps are:\n",
    "- Create a sub-circuit model by defining a class ```ParallelResistors``` derived from class ```SubCircuit```. Each instance of this class is a new custom component, usable on par with a built-in component like a resistor and can be used as a building block in circuit construction.\n",
    "- Instantiate a circuit object from the class ```Circuit```, passing the constructor a text label.\n",
    "- Register each sub-circuit using the ```subcircuit()``` method of 'circuit`. Then use it in the circuit. The circuit knows that this building block is a custom component by virtue of the ```X()``` method used when building the circuit. The method accepts 4 arguments as follows: The label (e.g. 'Parallel_Resistors_01') by which the component is 'known' to the circuit, the type of component, which is the name at the time of registration, the two nodes."
   ]
  },
  {
   "cell_type": "code",
   "execution_count": 8,
   "metadata": {},
   "outputs": [],
   "source": [
    "class ParallelResistors(SubCircuit):\n",
    "    __nodes__ = ('01', '02')\n",
    "    def __init__(self, name, R1=1@u_Ω, R2=2@u_Ω):\n",
    "        SubCircuit.__init__(self, name, *self.__nodes__)\n",
    "        self.R(\"R1\", '01', '02', R1)\n",
    "        self.R(\"R2\", '01', '02', R2)"
   ]
  },
  {
   "cell_type": "code",
   "execution_count": 9,
   "metadata": {},
   "outputs": [
    {
     "name": "stdout",
     "output_type": "stream",
     "text": [
      ".title Test\n",
      ".subckt Part_One 01 02\n",
      "RR1 01 02 1Ohm\n",
      "RR2 01 02 2Ohm\n",
      ".ends Part_One\n",
      "\n",
      ".subckt Part_Two 01 02\n",
      "RR1 01 02 1Ohm\n",
      "RR2 01 02 3Ohm\n",
      ".ends Part_Two\n",
      "XParallel_Resistors_01 1 0 Part_One\n",
      "XParallel_Resistors_02 1 0 Part_Two\n",
      "\n"
     ]
    }
   ],
   "source": [
    "circuit = Circuit('Test')\n",
    "circuit.subcircuit(ParallelResistors('Part_One', R2=2@u_Ω))\n",
    "circuit.X('Parallel_Resistors_01', 'Part_One', 1, circuit.gnd)\n",
    "circuit.subcircuit(ParallelResistors('Part_Two', R2=3@u_Ω))\n",
    "circuit.X('Parallel_Resistors_02', 'Part_Two', 1, circuit.gnd)\n",
    "print(circuit)"
   ]
  },
  {
   "cell_type": "markdown",
   "metadata": {},
   "source": [
    "## MULTISOURCE DC CIRCUIT PART II\n",
    "\n",
    "Here is an example [multisource DC circuit](https://www.allaboutcircuits.com/uploads/articles/multiple-source-DC-resistor-network-circuit-example-2.jpg): \n",
    "\n",
    "<img src=\"https://www.allaboutcircuits.com/uploads/articles/multiple-source-DC-resistor-network-circuit-example-2.jpg\">\n",
    "\n",
    "This time, we will simulate a DC sweep of the voltage source. "
   ]
  },
  {
   "cell_type": "code",
   "execution_count": 10,
   "metadata": {},
   "outputs": [
    {
     "data": {
      "text/plain": [
       "Resistor RR3"
      ]
     },
     "execution_count": 10,
     "metadata": {},
     "output_type": "execute_result"
    }
   ],
   "source": [
    "MultisourceDCv2 = Circuit(\"MULTISOURCE DC PART II\")\n",
    "MultisourceDCv2.V('V1', 1, 0, 24@u_V)\n",
    "MultisourceDCv2.V('V2', 3, 0, 15@u_V)\n",
    "MultisourceDCv2.R('R1', 2, 1, 10@u_kOhm)\n",
    "MultisourceDCv2.R('R2', 3, 2, 8.1@u_kOhm)\n",
    "MultisourceDCv2.R('R3', 2, 0, 4.7@u_kOhm)\n"
   ]
  },
  {
   "cell_type": "markdown",
   "metadata": {},
   "source": [
    "Use the ```dc()``` method of simulator and pass the sweep paramters (start, stop, step size), referring to the voltage source using its netlist symbol. The naming protocol appends a leading alphabet to the label attached to the building block during circuit construction. For example, the voltage source with the label 'V1' has become 'VV1' in the netlist. Had we labaled it 'input', it would appear as 'Vinput' in the netlist. Use ```slice()``` to present the sweep voltages as an array."
   ]
  },
  {
   "cell_type": "code",
   "execution_count": 34,
   "metadata": {},
   "outputs": [
    {
     "name": "stdout",
     "output_type": "stream",
     "text": [
      ".title MULTISOURCE DC PART II\n",
      "VV1 1 0 24V\n",
      "VV2 3 0 15V\n",
      "RR1 2 1 10kOhm\n",
      "RR2 3 2 8.1kOhm\n",
      "RR3 2 0 4.7kOhm\n",
      ".options TEMP = 25C\n",
      ".options TNOM = 27C\n",
      ".end\n",
      "\n",
      "Got: 2: [ 9.74697417  9.97621485 10.20545553 10.43469621 10.66393689 10.89317758\n",
      " 11.12241826 11.35165894 11.58089962 11.8101403  12.03938098 12.26862167\n",
      " 12.49786235 12.72710303 12.95634371 13.18558439 13.41482507]\n",
      "Got: 3: [15. 15. 15. 15. 15. 15. 15. 15. 15. 15. 15. 15. 15. 15. 15. 15. 15.]\n",
      "Got: 1: [24. 25. 26. 27. 28. 29. 30. 31. 32. 33. 34. 35. 36. 37. 38. 39. 40.]\n",
      "Got: v-sweep: [24. 25. 26. 27. 28. 29. 30. 31. 32. 33. 34. 35. 36. 37. 38. 39. 40.]\n"
     ]
    }
   ],
   "source": [
    "DC2sim = MultisourceDCv2.simulator(temperature=25, temperature_nominal=25)\n",
    "print(DC2sim)\n",
    "results = DC2sim.dc(VV1 = slice(24, 40, 1))\n",
    "for name, data in results.nodes.items(): \n",
    "    # Each node in the circuit has a name and data from simulation results.\n",
    "    print(\"Got: {}: {}\".format(name, np.array(data)))\n"
   ]
  },
  {
   "cell_type": "markdown",
   "metadata": {},
   "source": [
    "## RC TIMECONSTANT CIRCUIT\n",
    "\n",
    "Here is an example of an [RC time-constant circuit](https://www.allaboutcircuits.com/uploads/articles/RC-time-constant-circuit-example.jpg).\n",
    "\n",
    "<img src=\"https://www.allaboutcircuits.com/uploads/articles/RC-time-constant-circuit-example.jpg\">\n",
    "\n",
    "This time, we will run a DC analysis with time-varying simulation."
   ]
  },
  {
   "cell_type": "code",
   "execution_count": 143,
   "metadata": {},
   "outputs": [
    {
     "name": "stdout",
     "output_type": "stream",
     "text": [
      ".title RC TIMECONSTANT CIRCUIT\n",
      "VV1 1 0 10V\n",
      "CC1 1 2 47uF ic=0\n",
      "CC2 1 2 22uF ic=0\n",
      "RR1 2 0 3.3kOhm\n",
      "\n"
     ]
    }
   ],
   "source": [
    "RCCircuit = Circuit(\"RC TIMECONSTANT CIRCUIT\")\n",
    "RCCircuit.V('V1', 1, 0, 10@u_V)\n",
    "RCCircuit.C('C1', 1, 2, 47@u_uF, raw_spice='ic=0')\n",
    "RCCircuit.C('C2', 1, 2, 22@u_uF, raw_spice='ic=0')\n",
    "RCCircuit.R('R1', 2, RCCircuit.gnd, 3.3@u_kOhm)\n",
    "print(RCCircuit)"
   ]
  },
  {
   "cell_type": "code",
   "execution_count": 166,
   "metadata": {},
   "outputs": [
    {
     "name": "stdout",
     "output_type": "stream",
     "text": [
      ".title RC TIMECONSTANT CIRCUIT\n",
      "VV1 1 0 10V\n",
      "CC1 1 2 47uF ic=0\n",
      "CC2 1 2 22uF ic=0\n",
      "RR1 2 0 3.3kOhm\n",
      ".options TEMP = 25C\n",
      ".options TNOM = 27C\n",
      ".end\n",
      "\n"
     ]
    }
   ],
   "source": [
    "RCsim = RCCircuit.simulator(temperature=25, temperature_nominal=25, simulator='ngspice-shared')\n",
    "print(RCsim)\n",
    "results = RCsim.transient(step_time=0.05@u_s, end_time=1@u_s, use_initial_condition=True)\n",
    "dV = results['1']-results['2']"
   ]
  },
  {
   "cell_type": "code",
   "execution_count": 161,
   "metadata": {},
   "outputs": [
    {
     "data": {
      "image/png": "[encoded data removed]",
      "text/plain": [
       "<Figure size 432x288 with 1 Axes>"
      ]
     },
     "metadata": {
      "needs_background": "light"
     },
     "output_type": "display_data"
    }
   ],
   "source": [
    "plt.title(\"RC TIMECONSTANT CIRCUIT\")\n",
    "plt.xlabel(\"Time\")\n",
    "plt.ylabel(\"Voltage 1-2\")\n",
    "plt.plot(dV)\n",
    "plt.show()"
   ]
  },
  {
   "cell_type": "markdown",
   "metadata": {},
   "source": [
    "## AC SINEWAVE VOLTAGE CIRCUIT\n",
    "\n",
    "Here is an example of a [AC sinewave voltage circuit](https://www.allaboutcircuits.com/uploads/articles/simple-AC-sinewave-voltage-circuit.jpg).\n",
    "\n",
    "<img src=\"https://www.allaboutcircuits.com/uploads/articles/simple-AC-sinewave-voltage-circuit.jpg\">\n",
    "\n",
    "We'll run a transient analysis."
   ]
  },
  {
   "cell_type": "code",
   "execution_count": 167,
   "metadata": {},
   "outputs": [
    {
     "name": "stdout",
     "output_type": "stream",
     "text": [
      ".title AC SINEWAVE VOLTAGE CIRCUIT\n",
      "Vinput 1 0 DC 0V AC 1V SIN(0V 15V 60Hz 0s 0Hz)\n",
      "RR1 1 0 10kOhm\n",
      "\n"
     ]
    }
   ],
   "source": [
    "SinewaveAC = Circuit(\"AC SINEWAVE VOLTAGE CIRCUIT\")\n",
    "source = SinewaveAC.SinusoidalVoltageSource('input', 1, SinewaveAC.gnd, amplitude=15@u_V, frequency=60@u_Hz)\n",
    "SinewaveAC.R('R1', 1, SinewaveAC.gnd, 10@u_kOhm)\n",
    "print(SinewaveAC)"
   ]
  },
  {
   "cell_type": "code",
   "execution_count": 145,
   "metadata": {},
   "outputs": [
    {
     "name": "stdout",
     "output_type": "stream",
     "text": [
      "<PySpice.Probe.WaveForm.TransientAnalysis object at 0x7f9050cc8b20>\n"
     ]
    }
   ],
   "source": [
    "ACsim = SinewaveAC.simulator(temperature=25, nominal_temperature=25)\n",
    "out = ACsim.transient(step_time=1@u_ms, end_time=60@u_ms)\n",
    "print(out)"
   ]
  },
  {
   "cell_type": "code",
   "execution_count": 146,
   "metadata": {},
   "outputs": [
    {
     "name": "stdout",
     "output_type": "stream",
     "text": [
      "1: [  0.           0.03392917   0.06785817   0.13571495   0.27141879\n",
      "   0.54274871   1.08478661   2.16389228   4.28251548   8.20854068\n",
      "  12.25379216  14.57803495  14.85483605  13.04531957   9.40362673\n",
      "   4.44122246  -1.14493831  -6.5702959  -11.07287495 -14.02030162\n",
      " -14.99861859 -13.87042416 -10.79416987  -6.2019065   -0.7386038\n",
      "   4.82843362   9.71733188  13.24145976  14.90586396  14.47678387\n",
      "  12.0144825    7.86478278   2.61049768  -3.01042406  -8.20854068\n",
      " -12.25379216 -14.57803495 -14.85483605 -13.04531957  -9.40362673\n",
      "  -4.44122246   1.14493831   6.5702959   11.07287495  14.02030162\n",
      "  14.99861859  13.87042416  10.79416987   6.2019065    0.7386038\n",
      "  -4.82843362  -9.71733188 -13.24145976 -14.90586396 -14.47678387\n",
      " -12.0144825   -7.86478278  -2.61049768   3.01042406   8.20854068\n",
      "  12.25379216  14.57803495  14.85483605  13.04531957   9.40362673\n",
      "   4.44122246  -1.14493831  -6.5702959   -8.81677878]\n"
     ]
    }
   ],
   "source": [
    "for name, data in out.nodes.items():\n",
    "    print(\"{}: {}\".format(name, np.array(data)))"
   ]
  },
  {
   "cell_type": "code",
   "execution_count": 147,
   "metadata": {},
   "outputs": [
    {
     "data": {
      "image/png": "[encoded data removed]",
      "text/plain": [
       "<Figure size 432x288 with 1 Axes>"
      ]
     },
     "metadata": {
      "needs_background": "light"
     },
     "output_type": "display_data"
    }
   ],
   "source": [
    "plt.title(\"AC SINEWAVE VOLTAGE CIRCUIT\")\n",
    "plt.xlabel(\"Time\")\n",
    "plt.ylabel(\"Voltage @ 1\")\n",
    "plt.plot(out['1'])\n",
    "plt.show()"
   ]
  },
  {
   "cell_type": "code",
   "execution_count": null,
   "metadata": {},
   "outputs": [],
   "source": []
  }
 ],
 "metadata": {
  "interpreter": {
   "hash": "40d3a090f54c6569ab1632332b64b2c03c39dcf918b08424e98f38b5ae0af88f"
  },
  "kernelspec": {
   "display_name": "Python 3.8.3 64-bit ('base': conda)",
   "language": "python",
   "name": "python3"
  },
  "language_info": {
   "codemirror_mode": {
    "name": "ipython",
    "version": 3
   },
   "file_extension": ".py",
   "mimetype": "text/x-python",
   "name": "python",
   "nbconvert_exporter": "python",
   "pygments_lexer": "ipython3",
   "version": "3.8.3"
  },
  "orig_nbformat": 4
 },
 "nbformat": 4,
 "nbformat_minor": 2
}
