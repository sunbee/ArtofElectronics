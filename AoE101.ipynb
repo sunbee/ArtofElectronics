{
 "cells": [
  {
   "cell_type": "code",
   "execution_count": 2,
   "metadata": {},
   "outputs": [],
   "source": [
    "import PySpice.Logging.Logging as Logging\n",
    "logger = Logging.setup_logging()\n",
    "\n",
    "from PySpice.Spice.Netlist import Circuit, SubCircuit, SubCircuitFactory\n",
    "from PySpice.Unit import *\n"
   ]
  },
  {
   "cell_type": "markdown",
   "metadata": {},
   "source": [
    "## PySpice 101\n",
    "\n",
    "PySpice is a circuit simulator with a text interface. We are accustomed to viewing an electrical ciruit as a circuit diagram. However, representing a circuit to a computer for analysis requires a different approach. PySpice has a text interface for the purpose.\n",
    "\n",
    "Think of the circuit diagram as a network graph. Such a graph, in Computer Science, has nodes and edges. In a circuit, junctions are nodes and components (capacitor, transistor, op amp, etc.) are edges. This is an elegant representation becuase circuit analysis examines voltage or current at a junction (with respect to ground). This manner of representation of a circuit is called *netlist* in PySpice. \n",
    "\n",
    "Here is an example [multisource DC circuit](https://www.allaboutcircuits.com/uploads/articles/multiple-source-DC-resistor-network-circuit-example-1.jpg): \n",
    "\n",
    "<img src=\"https://www.allaboutcircuits.com/uploads/articles/multiple-source-DC-resistor-network-circuit-example-1.jpg\">\n",
    "\n",
    "``` \n",
    "Multiple dc sources v1 1 0 dc 24 v2 3 0 dc 15 r1 1 2 10k r2 2 3 8.1k r3 2 0 4.7k .end \n",
    "```\n",
    "\n",
    "This compact representation has the followiing components:\n",
    "- The label \"Multiple dc sources\" \n",
    "- DC voltage source #1 with name 'v1', spanning nodes 0 (GND) and 1, type dc and size 24 volts\n",
    "- DC voltage source #2 with name 'v2', spanning nodes 0 (GND) and 3, type dc and size 15 volts\n",
    "- Resistor named 'r1' spanning nodes 1 and 2 and size 10k ohms\n",
    "- Resistor named 'r2' spanning nodes 2 and 3 and size 8.1k ohms\n",
    "- Resistor named 'r3' spanning nodes 0 (GND) and size 2 and size 4.7k ohms.\n",
    "It has only the essential information about the circuit and no fluff.\n",
    "\n",
    "The netlist also includes provision to specify the type of simulation and content to report in output. We may want to examine the voltage or current in any of the following ways:\n",
    "1. steady-state\n",
    "2. transient\n",
    "3. time-varying\n",
    "\n",
    "PySpice offers these possibilities as relevant for AC or DC circuit analysis. See [examples](https://www.allaboutcircuits.com/textbook/reference/chpt-7/example-circuits-and-netlists/).\n",
    "\n",
    "Let's start with a test circuit with 2 resistors in parallel.\n",
    "\n",
    "## Resistors in Parallel"
   ]
  },
  {
   "cell_type": "code",
   "execution_count": 41,
   "metadata": {},
   "outputs": [],
   "source": [
    "class ParallelResistors(SubCircuit):\n",
    "    __nodes__ = ('01', '02')\n",
    "    def __init__(self, name, R1=1@u_Ω, R2=2@u_Ω):\n",
    "        SubCircuit.__init__(self, name, *self.__nodes__)\n",
    "        self.R(\"Resistor_One\", '01', '02', R1)\n",
    "        self.R(\"Resistor_Two\", '01', '02', R2)"
   ]
  },
  {
   "cell_type": "code",
   "execution_count": 42,
   "metadata": {},
   "outputs": [
    {
     "name": "stdout",
     "output_type": "stream",
     "text": [
      ".title Test\n",
      ".subckt Part_One 01 02\n",
      "RResistor_One 01 02 1Ohm\n",
      "RResistor_Two 01 02 2Ohm\n",
      ".ends Part_One\n",
      "\n",
      ".subckt Part_Two 01 02\n",
      "RResistor_One 01 02 1Ohm\n",
      "RResistor_Two 01 02 3Ohm\n",
      ".ends Part_Two\n",
      "X1 1 0 Part_One\n",
      "X2 1 0 Part_Two\n",
      "\n"
     ]
    }
   ],
   "source": [
    "circuit = Circuit('Test')\n",
    "circuit.subcircuit(ParallelResistors('Part_One', R2=2@u_Ω))\n",
    "circuit.X('1', 'Part_One', 1, circuit.gnd)\n",
    "circuit.subcircuit(ParallelResistors('Part_Two', R2=3@u_Ω))\n",
    "circuit.X('2', 'Part_Two', 1, circuit.gnd)\n",
    "print(circuit)"
   ]
  },
  {
   "cell_type": "code",
   "execution_count": null,
   "metadata": {},
   "outputs": [],
   "source": []
  }
 ],
 "metadata": {
  "interpreter": {
   "hash": "40d3a090f54c6569ab1632332b64b2c03c39dcf918b08424e98f38b5ae0af88f"
  },
  "kernelspec": {
   "display_name": "Python 3.8.3 64-bit ('base': conda)",
   "language": "python",
   "name": "python3"
  },
  "language_info": {
   "codemirror_mode": {
    "name": "ipython",
    "version": 3
   },
   "file_extension": ".py",
   "mimetype": "text/x-python",
   "name": "python",
   "nbconvert_exporter": "python",
   "pygments_lexer": "ipython3",
   "version": "3.8.3"
  },
  "orig_nbformat": 4
 },
 "nbformat": 4,
 "nbformat_minor": 2
}
